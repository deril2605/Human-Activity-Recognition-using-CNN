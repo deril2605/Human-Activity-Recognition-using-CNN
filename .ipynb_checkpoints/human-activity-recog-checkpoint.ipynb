{
 "cells": [
  {
   "cell_type": "code",
   "execution_count": 1,
   "metadata": {},
   "outputs": [],
   "source": [
    "import tensorflow as tf\n",
    "import keras\n",
    "from keras.models import Sequential\n",
    "from keras.layers import Dense, Flatten, Dropout, Conv2D, BatchNormalization, MaxPool2D\n",
    "import pandas as pd\n",
    "import numpy as np\n",
    "import matplotlib.pyplot as plt\n",
    "from sklearn.model_selection import train_test_split\n",
    "from sklearn.preprocessing import LabelEncoder, StandardScaler"
   ]
  },
  {
   "cell_type": "code",
   "execution_count": 2,
   "metadata": {},
   "outputs": [
    {
     "name": "stdout",
     "output_type": "stream",
     "text": [
      "281873\n",
      "281874\n",
      "281875\n"
     ]
    }
   ],
   "source": [
    "file = open('./WISDM_ar_v1.1/WISDM_ar_v1.1_raw.txt')\n",
    "lines = file.readlines()\n",
    "data = []\n",
    "for i,line in enumerate(lines):\n",
    "    try:\n",
    "        line = line.split(',')\n",
    "        last = line[5].split(';')[0]\n",
    "        last = last.strip()\n",
    "        if last == '':\n",
    "            break\n",
    "        temp = [line[0],line[1],line[2],line[3],line[4],last]\n",
    "        data.append(temp)\n",
    "    except:\n",
    "        print(i)"
   ]
  },
  {
   "cell_type": "code",
   "execution_count": 16,
   "metadata": {},
   "outputs": [
    {
     "data": {
      "text/html": [
       "<div>\n",
       "<style scoped>\n",
       "    .dataframe tbody tr th:only-of-type {\n",
       "        vertical-align: middle;\n",
       "    }\n",
       "\n",
       "    .dataframe tbody tr th {\n",
       "        vertical-align: top;\n",
       "    }\n",
       "\n",
       "    .dataframe thead th {\n",
       "        text-align: right;\n",
       "    }\n",
       "</style>\n",
       "<table border=\"1\" class=\"dataframe\">\n",
       "  <thead>\n",
       "    <tr style=\"text-align: right;\">\n",
       "      <th></th>\n",
       "      <th>user</th>\n",
       "      <th>activity</th>\n",
       "      <th>time</th>\n",
       "      <th>x</th>\n",
       "      <th>y</th>\n",
       "      <th>z</th>\n",
       "    </tr>\n",
       "  </thead>\n",
       "  <tbody>\n",
       "    <tr>\n",
       "      <th>0</th>\n",
       "      <td>33</td>\n",
       "      <td>Jogging</td>\n",
       "      <td>49105962326000</td>\n",
       "      <td>-0.6946377</td>\n",
       "      <td>12.680544</td>\n",
       "      <td>0.50395286</td>\n",
       "    </tr>\n",
       "    <tr>\n",
       "      <th>1</th>\n",
       "      <td>33</td>\n",
       "      <td>Jogging</td>\n",
       "      <td>49106062271000</td>\n",
       "      <td>5.012288</td>\n",
       "      <td>11.264028</td>\n",
       "      <td>0.95342433</td>\n",
       "    </tr>\n",
       "    <tr>\n",
       "      <th>2</th>\n",
       "      <td>33</td>\n",
       "      <td>Jogging</td>\n",
       "      <td>49106112167000</td>\n",
       "      <td>4.903325</td>\n",
       "      <td>10.882658</td>\n",
       "      <td>-0.08172209</td>\n",
       "    </tr>\n",
       "    <tr>\n",
       "      <th>3</th>\n",
       "      <td>33</td>\n",
       "      <td>Jogging</td>\n",
       "      <td>49106222305000</td>\n",
       "      <td>-0.61291564</td>\n",
       "      <td>18.496431</td>\n",
       "      <td>3.0237172</td>\n",
       "    </tr>\n",
       "    <tr>\n",
       "      <th>4</th>\n",
       "      <td>33</td>\n",
       "      <td>Jogging</td>\n",
       "      <td>49106332290000</td>\n",
       "      <td>-1.1849703</td>\n",
       "      <td>12.108489</td>\n",
       "      <td>7.205164</td>\n",
       "    </tr>\n",
       "  </tbody>\n",
       "</table>\n",
       "</div>"
      ],
      "text/plain": [
       "  user activity            time            x          y            z\n",
       "0   33  Jogging  49105962326000   -0.6946377  12.680544   0.50395286\n",
       "1   33  Jogging  49106062271000     5.012288  11.264028   0.95342433\n",
       "2   33  Jogging  49106112167000     4.903325  10.882658  -0.08172209\n",
       "3   33  Jogging  49106222305000  -0.61291564  18.496431    3.0237172\n",
       "4   33  Jogging  49106332290000   -1.1849703  12.108489     7.205164"
      ]
     },
     "execution_count": 16,
     "metadata": {},
     "output_type": "execute_result"
    }
   ],
   "source": [
    "columns = ['user','activity','time','x','y','z']\n",
    "df=pd.DataFrame(data=data, columns=columns)\n",
    "df.head()"
   ]
  },
  {
   "cell_type": "code",
   "execution_count": 5,
   "metadata": {},
   "outputs": [
    {
     "data": {
      "text/plain": [
       "user        0\n",
       "activity    0\n",
       "time        0\n",
       "x           0\n",
       "y           0\n",
       "z           0\n",
       "dtype: int64"
      ]
     },
     "execution_count": 5,
     "metadata": {},
     "output_type": "execute_result"
    }
   ],
   "source": [
    "df.isnull().sum()"
   ]
  },
  {
   "cell_type": "code",
   "execution_count": 6,
   "metadata": {},
   "outputs": [
    {
     "data": {
      "text/plain": [
       "Walking       137375\n",
       "Jogging       129392\n",
       "Upstairs       35137\n",
       "Downstairs     33358\n",
       "Sitting         4599\n",
       "Standing        3555\n",
       "Name: activity, dtype: int64"
      ]
     },
     "execution_count": 6,
     "metadata": {},
     "output_type": "execute_result"
    }
   ],
   "source": [
    "df['activity'].value_counts()"
   ]
  },
  {
   "cell_type": "code",
   "execution_count": 17,
   "metadata": {},
   "outputs": [],
   "source": [
    "df['x']=df['x'].astype('float')\n",
    "df['y']=df['y'].astype('float')\n",
    "df['z']=df['z'].astype('float')"
   ]
  },
  {
   "cell_type": "code",
   "execution_count": 18,
   "metadata": {},
   "outputs": [
    {
     "data": {
      "text/html": [
       "<div>\n",
       "<style scoped>\n",
       "    .dataframe tbody tr th:only-of-type {\n",
       "        vertical-align: middle;\n",
       "    }\n",
       "\n",
       "    .dataframe tbody tr th {\n",
       "        vertical-align: top;\n",
       "    }\n",
       "\n",
       "    .dataframe thead th {\n",
       "        text-align: right;\n",
       "    }\n",
       "</style>\n",
       "<table border=\"1\" class=\"dataframe\">\n",
       "  <thead>\n",
       "    <tr style=\"text-align: right;\">\n",
       "      <th></th>\n",
       "      <th>activity</th>\n",
       "      <th>x</th>\n",
       "      <th>y</th>\n",
       "      <th>z</th>\n",
       "    </tr>\n",
       "  </thead>\n",
       "  <tbody>\n",
       "    <tr>\n",
       "      <th>0</th>\n",
       "      <td>Jogging</td>\n",
       "      <td>-0.694638</td>\n",
       "      <td>12.680544</td>\n",
       "      <td>0.503953</td>\n",
       "    </tr>\n",
       "    <tr>\n",
       "      <th>1</th>\n",
       "      <td>Jogging</td>\n",
       "      <td>5.012288</td>\n",
       "      <td>11.264028</td>\n",
       "      <td>0.953424</td>\n",
       "    </tr>\n",
       "    <tr>\n",
       "      <th>2</th>\n",
       "      <td>Jogging</td>\n",
       "      <td>4.903325</td>\n",
       "      <td>10.882658</td>\n",
       "      <td>-0.081722</td>\n",
       "    </tr>\n",
       "    <tr>\n",
       "      <th>3</th>\n",
       "      <td>Jogging</td>\n",
       "      <td>-0.612916</td>\n",
       "      <td>18.496431</td>\n",
       "      <td>3.023717</td>\n",
       "    </tr>\n",
       "    <tr>\n",
       "      <th>4</th>\n",
       "      <td>Jogging</td>\n",
       "      <td>-1.184970</td>\n",
       "      <td>12.108489</td>\n",
       "      <td>7.205164</td>\n",
       "    </tr>\n",
       "  </tbody>\n",
       "</table>\n",
       "</div>"
      ],
      "text/plain": [
       "  activity         x          y         z\n",
       "0  Jogging -0.694638  12.680544  0.503953\n",
       "1  Jogging  5.012288  11.264028  0.953424\n",
       "2  Jogging  4.903325  10.882658 -0.081722\n",
       "3  Jogging -0.612916  18.496431  3.023717\n",
       "4  Jogging -1.184970  12.108489  7.205164"
      ]
     },
     "execution_count": 18,
     "metadata": {},
     "output_type": "execute_result"
    }
   ],
   "source": [
    "df = df.drop(['time','user'],axis=1)\n",
    "df.head()"
   ]
  },
  {
   "cell_type": "code",
   "execution_count": 20,
   "metadata": {},
   "outputs": [],
   "source": [
    "walking = df[df['activity']=='Walking'].head(3555).copy()\n",
    "jogging = df[df['activity']=='Jogging'].head(3555).copy()\n",
    "upstairs = df[df['activity']=='Upstairs'].head(3555).copy()\n",
    "downstairs = df[df['activity']=='Downstairs'].head(3555).copy()\n",
    "sitting = df[df['activity']=='Sitting'].head(3555).copy()\n",
    "standing = df[df['activity']=='Standing'].head(3555).copy()"
   ]
  },
  {
   "cell_type": "code",
   "execution_count": 23,
   "metadata": {},
   "outputs": [
    {
     "data": {
      "text/plain": [
       "(21330, 4)"
      ]
     },
     "execution_count": 23,
     "metadata": {},
     "output_type": "execute_result"
    }
   ],
   "source": [
    "df = pd.DataFrame()\n",
    "df = df.append([walking,jogging, upstairs, downstairs, sitting, standing])\n",
    "df.shape"
   ]
  },
  {
   "cell_type": "code",
   "execution_count": 24,
   "metadata": {},
   "outputs": [],
   "source": [
    "lb = LabelEncoder()\n",
    "df['label'] = lb.fit_transform(df['activity'])"
   ]
  },
  {
   "cell_type": "code",
   "execution_count": 25,
   "metadata": {},
   "outputs": [
    {
     "data": {
      "text/html": [
       "<div>\n",
       "<style scoped>\n",
       "    .dataframe tbody tr th:only-of-type {\n",
       "        vertical-align: middle;\n",
       "    }\n",
       "\n",
       "    .dataframe tbody tr th {\n",
       "        vertical-align: top;\n",
       "    }\n",
       "\n",
       "    .dataframe thead th {\n",
       "        text-align: right;\n",
       "    }\n",
       "</style>\n",
       "<table border=\"1\" class=\"dataframe\">\n",
       "  <thead>\n",
       "    <tr style=\"text-align: right;\">\n",
       "      <th></th>\n",
       "      <th>activity</th>\n",
       "      <th>x</th>\n",
       "      <th>y</th>\n",
       "      <th>z</th>\n",
       "      <th>label</th>\n",
       "    </tr>\n",
       "  </thead>\n",
       "  <tbody>\n",
       "    <tr>\n",
       "      <th>597</th>\n",
       "      <td>Walking</td>\n",
       "      <td>0.844462</td>\n",
       "      <td>8.008764</td>\n",
       "      <td>2.792171</td>\n",
       "      <td>5</td>\n",
       "    </tr>\n",
       "    <tr>\n",
       "      <th>598</th>\n",
       "      <td>Walking</td>\n",
       "      <td>1.116869</td>\n",
       "      <td>8.621680</td>\n",
       "      <td>3.786457</td>\n",
       "      <td>5</td>\n",
       "    </tr>\n",
       "    <tr>\n",
       "      <th>599</th>\n",
       "      <td>Walking</td>\n",
       "      <td>-0.503953</td>\n",
       "      <td>16.657684</td>\n",
       "      <td>1.307553</td>\n",
       "      <td>5</td>\n",
       "    </tr>\n",
       "    <tr>\n",
       "      <th>600</th>\n",
       "      <td>Walking</td>\n",
       "      <td>4.794363</td>\n",
       "      <td>10.760075</td>\n",
       "      <td>-1.184970</td>\n",
       "      <td>5</td>\n",
       "    </tr>\n",
       "    <tr>\n",
       "      <th>601</th>\n",
       "      <td>Walking</td>\n",
       "      <td>-0.040861</td>\n",
       "      <td>9.234595</td>\n",
       "      <td>-0.694638</td>\n",
       "      <td>5</td>\n",
       "    </tr>\n",
       "  </tbody>\n",
       "</table>\n",
       "</div>"
      ],
      "text/plain": [
       "    activity         x          y         z  label\n",
       "597  Walking  0.844462   8.008764  2.792171      5\n",
       "598  Walking  1.116869   8.621680  3.786457      5\n",
       "599  Walking -0.503953  16.657684  1.307553      5\n",
       "600  Walking  4.794363  10.760075 -1.184970      5\n",
       "601  Walking -0.040861   9.234595 -0.694638      5"
      ]
     },
     "execution_count": 25,
     "metadata": {},
     "output_type": "execute_result"
    }
   ],
   "source": [
    "df.head()"
   ]
  },
  {
   "cell_type": "code",
   "execution_count": 26,
   "metadata": {},
   "outputs": [
    {
     "data": {
      "text/plain": [
       "array(['Downstairs', 'Jogging', 'Sitting', 'Standing', 'Upstairs',\n",
       "       'Walking'], dtype=object)"
      ]
     },
     "execution_count": 26,
     "metadata": {},
     "output_type": "execute_result"
    }
   ],
   "source": [
    "lb.classes_"
   ]
  },
  {
   "cell_type": "code",
   "execution_count": 27,
   "metadata": {},
   "outputs": [],
   "source": [
    "X = df[['x','y','z']]\n",
    "y = df['label']"
   ]
  },
  {
   "cell_type": "code",
   "execution_count": 29,
   "metadata": {},
   "outputs": [
    {
     "data": {
      "text/html": [
       "<div>\n",
       "<style scoped>\n",
       "    .dataframe tbody tr th:only-of-type {\n",
       "        vertical-align: middle;\n",
       "    }\n",
       "\n",
       "    .dataframe tbody tr th {\n",
       "        vertical-align: top;\n",
       "    }\n",
       "\n",
       "    .dataframe thead th {\n",
       "        text-align: right;\n",
       "    }\n",
       "</style>\n",
       "<table border=\"1\" class=\"dataframe\">\n",
       "  <thead>\n",
       "    <tr style=\"text-align: right;\">\n",
       "      <th></th>\n",
       "      <th>x</th>\n",
       "      <th>y</th>\n",
       "      <th>z</th>\n",
       "      <th>label</th>\n",
       "    </tr>\n",
       "  </thead>\n",
       "  <tbody>\n",
       "    <tr>\n",
       "      <th>0</th>\n",
       "      <td>0.000503</td>\n",
       "      <td>-0.099190</td>\n",
       "      <td>0.337933</td>\n",
       "      <td>5</td>\n",
       "    </tr>\n",
       "    <tr>\n",
       "      <th>1</th>\n",
       "      <td>0.073590</td>\n",
       "      <td>0.020386</td>\n",
       "      <td>0.633446</td>\n",
       "      <td>5</td>\n",
       "    </tr>\n",
       "    <tr>\n",
       "      <th>2</th>\n",
       "      <td>-0.361275</td>\n",
       "      <td>1.588160</td>\n",
       "      <td>-0.103312</td>\n",
       "      <td>5</td>\n",
       "    </tr>\n",
       "    <tr>\n",
       "      <th>3</th>\n",
       "      <td>1.060258</td>\n",
       "      <td>0.437573</td>\n",
       "      <td>-0.844119</td>\n",
       "      <td>5</td>\n",
       "    </tr>\n",
       "    <tr>\n",
       "      <th>4</th>\n",
       "      <td>-0.237028</td>\n",
       "      <td>0.139962</td>\n",
       "      <td>-0.698386</td>\n",
       "      <td>5</td>\n",
       "    </tr>\n",
       "  </tbody>\n",
       "</table>\n",
       "</div>"
      ],
      "text/plain": [
       "          x         y         z  label\n",
       "0  0.000503 -0.099190  0.337933      5\n",
       "1  0.073590  0.020386  0.633446      5\n",
       "2 -0.361275  1.588160 -0.103312      5\n",
       "3  1.060258  0.437573 -0.844119      5\n",
       "4 -0.237028  0.139962 -0.698386      5"
      ]
     },
     "execution_count": 29,
     "metadata": {},
     "output_type": "execute_result"
    }
   ],
   "source": [
    "scaler = StandardScaler()\n",
    "x = scaler.fit_transform(X)\n",
    "x = pd.DataFrame(data=x, columns=['x','y','z'])\n",
    "x['label'] = y.values\n",
    "x.head()"
   ]
  },
  {
   "cell_type": "code",
   "execution_count": 30,
   "metadata": {},
   "outputs": [],
   "source": [
    "Fs=20\n",
    "frame_size = Fs*4\n",
    "hop_size=Fs*2"
   ]
  },
  {
   "cell_type": "code",
   "execution_count": 31,
   "metadata": {},
   "outputs": [],
   "source": [
    "import scipy.stats as stats"
   ]
  },
  {
   "cell_type": "code",
   "execution_count": 32,
   "metadata": {},
   "outputs": [],
   "source": [
    "def get_frames(df,frame_size,hop_size):\n",
    "    N_FEAT=3\n",
    "    frames=[]\n",
    "    labels=[]\n",
    "    for i in range(0,len(df)-frame_size,hop_size):\n",
    "        x = df['x'].values[i:i+frame_size]\n",
    "        y = df['y'].values[i:i+frame_size]\n",
    "        z = df['z'].values[i:i+frame_size]\n",
    "        \n",
    "        label = stats.mode(df['label'][i:i+frame_size])[0][0]\n",
    "        frames.append([x,y,z])\n",
    "        labels.append(label)\n",
    "    \n",
    "    frames = np.asarray(frames).reshape(-1,frame_size,N_FEAT)\n",
    "    labels=np.asarray(labels)\n",
    "    \n",
    "    return frames, labels"
   ]
  },
  {
   "cell_type": "code",
   "execution_count": 33,
   "metadata": {},
   "outputs": [],
   "source": [
    "X,y = get_frames(df,frame_size,hop_size)"
   ]
  },
  {
   "cell_type": "code",
   "execution_count": 36,
   "metadata": {},
   "outputs": [],
   "source": [
    "X_train, X_test, y_train, y_test = train_test_split(X, y, test_size=0.2, random_state=42, stratify=y)"
   ]
  },
  {
   "cell_type": "code",
   "execution_count": 37,
   "metadata": {},
   "outputs": [],
   "source": [
    "X_train = X_train.reshape(X_train.shape[0],X_train.shape[1],X_train.shape[2],1)\n",
    "X_test = X_test.reshape(X_test.shape[0],X_test.shape[1],X_test.shape[2],1)"
   ]
  },
  {
   "cell_type": "code",
   "execution_count": 66,
   "metadata": {},
   "outputs": [],
   "source": [
    "model = Sequential()\n",
    "model.add(Conv2D(filters=16, kernel_size=(2,2), activation='relu', input_shape=X_train[0].shape))\n",
    "model.add(Dropout(0.2))\n",
    "\n",
    "model.add(Conv2D(filters=32, kernel_size=(2,2), activation='relu'))\n",
    "model.add(Dropout(0.2))\n",
    "\n",
    "model.add(Flatten())\n",
    "\n",
    "model.add(Dense(64, activation='relu'))\n",
    "model.add(Dropout(0.5))\n",
    "\n",
    "model.add(Dense(6, activation='softmax'))"
   ]
  },
  {
   "cell_type": "code",
   "execution_count": 67,
   "metadata": {},
   "outputs": [],
   "source": [
    "model.compile(optimizer='adam', loss='sparse_categorical_crossentropy', metrics=['accuracy'])"
   ]
  },
  {
   "cell_type": "code",
   "execution_count": 68,
   "metadata": {},
   "outputs": [
    {
     "name": "stdout",
     "output_type": "stream",
     "text": [
      "Model: \"sequential_7\"\n",
      "_________________________________________________________________\n",
      "Layer (type)                 Output Shape              Param #   \n",
      "=================================================================\n",
      "conv2d_16 (Conv2D)           (None, 79, 2, 16)         80        \n",
      "_________________________________________________________________\n",
      "dropout_16 (Dropout)         (None, 79, 2, 16)         0         \n",
      "_________________________________________________________________\n",
      "conv2d_17 (Conv2D)           (None, 78, 1, 32)         2080      \n",
      "_________________________________________________________________\n",
      "dropout_17 (Dropout)         (None, 78, 1, 32)         0         \n",
      "_________________________________________________________________\n",
      "flatten_4 (Flatten)          (None, 2496)              0         \n",
      "_________________________________________________________________\n",
      "dense_7 (Dense)              (None, 64)                159808    \n",
      "_________________________________________________________________\n",
      "dropout_18 (Dropout)         (None, 64)                0         \n",
      "_________________________________________________________________\n",
      "dense_8 (Dense)              (None, 6)                 390       \n",
      "=================================================================\n",
      "Total params: 162,358\n",
      "Trainable params: 162,358\n",
      "Non-trainable params: 0\n",
      "_________________________________________________________________\n"
     ]
    }
   ],
   "source": [
    "model.summary()"
   ]
  },
  {
   "cell_type": "code",
   "execution_count": 69,
   "metadata": {},
   "outputs": [
    {
     "name": "stdout",
     "output_type": "stream",
     "text": [
      "Train on 425 samples, validate on 107 samples\n",
      "Epoch 1/10\n",
      "425/425 [==============================] - 0s 924us/step - loss: 1.8843 - accuracy: 0.2682 - val_loss: 1.2987 - val_accuracy: 0.6075\n",
      "Epoch 2/10\n",
      "425/425 [==============================] - 0s 357us/step - loss: 1.3289 - accuracy: 0.4565 - val_loss: 0.9846 - val_accuracy: 0.6729\n",
      "Epoch 3/10\n",
      "425/425 [==============================] - 0s 329us/step - loss: 1.0700 - accuracy: 0.5718 - val_loss: 0.7471 - val_accuracy: 0.7944\n",
      "Epoch 4/10\n",
      "425/425 [==============================] - 0s 364us/step - loss: 0.9298 - accuracy: 0.6494 - val_loss: 0.6345 - val_accuracy: 0.8505\n",
      "Epoch 5/10\n",
      "425/425 [==============================] - 0s 375us/step - loss: 0.7550 - accuracy: 0.7106 - val_loss: 0.4877 - val_accuracy: 0.8505\n",
      "Epoch 6/10\n",
      "425/425 [==============================] - 0s 343us/step - loss: 0.6709 - accuracy: 0.7318 - val_loss: 0.4204 - val_accuracy: 0.8785\n",
      "Epoch 7/10\n",
      "425/425 [==============================] - 0s 448us/step - loss: 0.5611 - accuracy: 0.7600 - val_loss: 0.3790 - val_accuracy: 0.8879\n",
      "Epoch 8/10\n",
      "425/425 [==============================] - 0s 516us/step - loss: 0.4905 - accuracy: 0.8024 - val_loss: 0.3031 - val_accuracy: 0.8879\n",
      "Epoch 9/10\n",
      "425/425 [==============================] - 0s 479us/step - loss: 0.4098 - accuracy: 0.8635 - val_loss: 0.3276 - val_accuracy: 0.8972\n",
      "Epoch 10/10\n",
      "425/425 [==============================] - 0s 371us/step - loss: 0.4224 - accuracy: 0.8329 - val_loss: 0.3174 - val_accuracy: 0.8785\n"
     ]
    }
   ],
   "source": [
    "h = model.fit(X_train,y_train, epochs=10, validation_data=(X_test,y_test), verbose=1)"
   ]
  },
  {
   "cell_type": "code",
   "execution_count": 70,
   "metadata": {},
   "outputs": [],
   "source": [
    "def plot_learningcurve(h,epochs):\n",
    "  #train and val acc\n",
    "  epoch_range = range(1,epochs+1)\n",
    "  plt.plot(epoch_range, h.history['accuracy'])\n",
    "  plt.plot(epoch_range, h.history['val_accuracy'])\n",
    "  plt.title('Model acc')\n",
    "  plt.ylabel('acc')\n",
    "  plt.xlabel('epochs')\n",
    "  plt.legend(['train','val'])\n",
    "  plt.show()\n",
    "\n",
    "  # train and val loss\n",
    "  epoch_range = range(1,epochs+1)\n",
    "  plt.plot(epoch_range, h.history['loss'])\n",
    "  plt.plot(epoch_range, h.history['val_loss'])\n",
    "  plt.title('Model loss')\n",
    "  plt.ylabel('loss')\n",
    "  plt.xlabel('epochs')\n",
    "  plt.legend(['train','val'])\n",
    "  plt.show()"
   ]
  },
  {
   "cell_type": "code",
   "execution_count": 52,
   "metadata": {},
   "outputs": [
    {
     "data": {
      "image/png": "[encoded data removed]",
      "text/plain": [
       "<Figure size 432x288 with 1 Axes>"
      ]
     },
     "metadata": {
      "needs_background": "light"
     },
     "output_type": "display_data"
    },
    {
     "data": {
      "image/png": "[encoded data removed]",
      "text/plain": [
       "<Figure size 432x288 with 1 Axes>"
      ]
     },
     "metadata": {
      "needs_background": "light"
     },
     "output_type": "display_data"
    }
   ],
   "source": [
    "plot_learningcurve(h,10)"
   ]
  },
  {
   "cell_type": "code",
   "execution_count": 54,
   "metadata": {},
   "outputs": [],
   "source": [
    "from mlxtend.plotting import plot_confusion_matrix\n",
    "from sklearn.metrics import confusion_matrix"
   ]
  },
  {
   "cell_type": "code",
   "execution_count": 55,
   "metadata": {},
   "outputs": [],
   "source": [
    "y_pred = model.predict_classes(X_test)"
   ]
  },
  {
   "cell_type": "code",
   "execution_count": 56,
   "metadata": {},
   "outputs": [],
   "source": [
    "mat = confusion_matrix(y_test,y_pred)"
   ]
  },
  {
   "cell_type": "code",
   "execution_count": 60,
   "metadata": {},
   "outputs": [
    {
     "data": {
      "text/plain": [
       "(<Figure size 504x504 with 1 Axes>,\n",
       " <matplotlib.axes._subplots.AxesSubplot at 0x1c1ef9e5348>)"
      ]
     },
     "execution_count": 60,
     "metadata": {},
     "output_type": "execute_result"
    },
    {
     "data": {
      "image/png": "[encoded data removed]",
      "text/plain": [
       "<Figure size 504x504 with 1 Axes>"
      ]
     },
     "metadata": {
      "needs_background": "light"
     },
     "output_type": "display_data"
    }
   ],
   "source": [
    "plot_confusion_matrix(conf_mat=mat,class_names=lb.classes_,figsize=(7,7),show_normed=True)"
   ]
  },
  {
   "cell_type": "code",
   "execution_count": null,
   "metadata": {},
   "outputs": [],
   "source": []
  }
 ],
 "metadata": {
  "kernelspec": {
   "display_name": "Python 3",
   "language": "python",
   "name": "python3"
  },
  "language_info": {
   "codemirror_mode": {
    "name": "ipython",
    "version": 3
   },
   "file_extension": ".py",
   "mimetype": "text/x-python",
   "name": "python",
   "nbconvert_exporter": "python",
   "pygments_lexer": "ipython3",
   "version": "3.7.7"
  }
 },
 "nbformat": 4,
 "nbformat_minor": 4
}
